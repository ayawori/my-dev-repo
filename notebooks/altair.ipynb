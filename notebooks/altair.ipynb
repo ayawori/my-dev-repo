{
  "cells": [
    {
      "cell_type": "code",
      "source": [
        "import altair as alt\n",
        "from vega_datasets import data\n",
        "\n",
        "iris = data.iris()\n",
        "\n",
        "alt.Chart(iris).mark_point().encode(\n",
        "    x='petalLength',\n",
        "    y='petalWidth',\n",
        "    color='species'\n",
        ")"
      ],
      "outputs": [
        {
          "output_type": "execute_result",
          "execution_count": 1,
          "data": {
            "application/vnd.vegalite.v3+json": {
              "config": {
                "view": {
                  "width": 400,
                  "height": 300
                },
                "mark": {
                  "tooltip": null
                }
              },
              "data": {
                "name": "data-a264acbd6e539a8b3afc0cb5f240fb57"
              },
              "mark": "point",
              "encoding": {
                "color": {
                  "type": "nominal",
                  "field": "species"
                },
                "x": {
                  "type": "quantitative",
                  "field": "petalLength"
                },
                "y": {
                  "type": "quantitative",
                  "field": "petalWidth"
                }
              },
              "$schema": "https://vega.github.io/schema/vega-lite/v3.4.0.json",
              "datasets": {
                "data-a264acbd6e539a8b3afc0cb5f240fb57": [
                  {
                    "sepalLength": 5.1,
                    "sepalWidth": 3.5,
                    "petalLength": 1.4,
                    "petalWidth": 0.2,
                    "species": "setosa"
                  },
                  {
                    "sepalLength": 4.9,
                    "sepalWidth": 3,
                    "petalLength": 1.4,
                    "petalWidth": 0.2,
                    "species": "setosa"
                  },
                  {
                    "sepalLength": 4.7,
                    "sepalWidth": 3.2,
                    "petalLength": 1.3,
                    "petalWidth": 0.2,
                    "species": "setosa"
                  },
                  {
                    "sepalLength": 4.6,
                    "sepalWidth": 3.1,
                    "petalLength": 1.5,
                    "petalWidth": 0.2,
                    "species": "setosa"
                  },
                  {
                    "sepalLength": 5,
                    "sepalWidth": 3.6,
                    "petalLength": 1.4,
                    "petalWidth": 0.2,
                    "species": "setosa"
                  },
                  {
                    "sepalLength": 5.4,
                    "sepalWidth": 3.9,
                    "petalLength": 1.7000000000000002,
                    "petalWidth": 0.4,
                    "species": "setosa"
                  },
                  {
                    "sepalLength": 4.6,
                    "sepalWidth": 3.4,
                    "petalLength": 1.4,
                    "petalWidth": 0.30000000000000004,
                    "species": "setosa"
                  },
                  {
                    "sepalLength": 5,
                    "sepalWidth": 3.4,
                    "petalLength": 1.5,
                    "petalWidth": 0.2,
                    "species": "setosa"
                  },
                  {
                    "sepalLength": 4.4,
                    "sepalWidth": 2.9,
                    "petalLength": 1.4,
                    "petalWidth": 0.2,
                    "species": "setosa"
                  },
                  {
                    "sepalLength": 4.9,
                    "sepalWidth": 3.1,
                    "petalLength": 1.5,
                    "petalWidth": 0.1,
                    "species": "setosa"
                  },
                  {
                    "sepalLength": 5.4,
                    "sepalWidth": 3.7,
                    "petalLength": 1.5,
                    "petalWidth": 0.2,
                    "species": "setosa"
                  },
                  {
                    "sepalLength": 4.8,
                    "sepalWidth": 3.4,
                    "petalLength": 1.6,
                    "petalWidth": 0.2,
                    "species": "setosa"
                  },
                  {
                    "sepalLength": 4.8,
                    "sepalWidth": 3,
                    "petalLength": 1.4,
                    "petalWidth": 0.1,
                    "species": "setosa"
                  },
                  {
                    "sepalLength": 4.3,
                    "sepalWidth": 3,
                    "petalLength": 1.1,
                    "petalWidth": 0.1,
                    "species": "setosa"
                  },
                  {
                    "sepalLength": 5.8,
                    "sepalWidth": 4,
                    "petalLength": 1.2,
                    "petalWidth": 0.2,
                    "species": "setosa"
                  },
                  {
                    "sepalLength": 5.7,
                    "sepalWidth": 4.4,
                    "petalLength": 1.5,
                    "petalWidth": 0.4,
                    "species": "setosa"
                  },
                  {
                    "sepalLength": 5.4,
                    "sepalWidth": 3.9,
                    "petalLength": 1.3,
                    "petalWidth": 0.4,
                    "species": "setosa"
                  },
                  {
                    "sepalLength": 5.1,
                    "sepalWidth": 3.5,
                    "petalLength": 1.4,
                    "petalWidth": 0.30000000000000004,
                    "species": "setosa"
                  },
                  {
                    "sepalLength": 5.7,
                    "sepalWidth": 3.8,
                    "petalLength": 1.7000000000000002,
                    "petalWidth": 0.30000000000000004,
                    "species": "setosa"
                  },
                  {
                    "sepalLength": 5.1,
                    "sepalWidth": 3.8,
                    "petalLength": 1.5,
                    "petalWidth": 0.30000000000000004,
                    "species": "setosa"
                  },
                  {
                    "sepalLength": 5.4,
                    "sepalWidth": 3.4,
                    "petalLength": 1.7000000000000002,
                    "petalWidth": 0.2,
                    "species": "setosa"
                  },
                  {
                    "sepalLength": 5.1,
                    "sepalWidth": 3.7,
                    "petalLength": 1.5,
                    "petalWidth": 0.4,
                    "species": "setosa"
                  },
                  {
                    "sepalLength": 4.6,
                    "sepalWidth": 3.6,
                    "petalLength": 1,
                    "petalWidth": 0.2,
                    "species": "setosa"
                  },
                  {
                    "sepalLength": 5.1,
                    "sepalWidth": 3.3,
                    "petalLength": 1.7000000000000002,
                    "petalWidth": 0.5,
                    "species": "setosa"
                  },
                  {
                    "sepalLength": 4.8,
                    "sepalWidth": 3.4,
                    "petalLength": 1.9,
                    "petalWidth": 0.2,
                    "species": "setosa"
                  },
                  {
                    "sepalLength": 5,
                    "sepalWidth": 3,
                    "petalLength": 1.6,
                    "petalWidth": 0.2,
                    "species": "setosa"
                  },
                  {
                    "sepalLength": 5,
                    "sepalWidth": 3.4,
                    "petalLength": 1.6,
                    "petalWidth": 0.4,
                    "species": "setosa"
                  },
                  {
                    "sepalLength": 5.2,
                    "sepalWidth": 3.5,
                    "petalLength": 1.5,
                    "petalWidth": 0.2,
                    "species": "setosa"
                  },
                  {
                    "sepalLength": 5.2,
                    "sepalWidth": 3.4,
                    "petalLength": 1.4,
                    "petalWidth": 0.2,
                    "species": "setosa"
                  },
                  {
                    "sepalLength": 4.7,
                    "sepalWidth": 3.2,
                    "petalLength": 1.6,
                    "petalWidth": 0.2,
                    "species": "setosa"
                  },
                  {
                    "sepalLength": 4.8,
                    "sepalWidth": 3.1,
                    "petalLength": 1.6,
                    "petalWidth": 0.2,
                    "species": "setosa"
                  },
                  {
                    "sepalLength": 5.4,
                    "sepalWidth": 3.4,
                    "petalLength": 1.5,
                    "petalWidth": 0.4,
                    "species": "setosa"
                  },
                  {
                    "sepalLength": 5.2,
                    "sepalWidth": 4.1,
                    "petalLength": 1.5,
                    "petalWidth": 0.1,
                    "species": "setosa"
                  },
                  {
                    "sepalLength": 5.5,
                    "sepalWidth": 4.2,
                    "petalLength": 1.4,
                    "petalWidth": 0.2,
                    "species": "setosa"
                  },
                  {
                    "sepalLength": 4.9,
                    "sepalWidth": 3.1,
                    "petalLength": 1.5,
                    "petalWidth": 0.2,
                    "species": "setosa"
                  },
                  {
                    "sepalLength": 5,
                    "sepalWidth": 3.2,
                    "petalLength": 1.2,
                    "petalWidth": 0.2,
                    "species": "setosa"
                  },
                  {
                    "sepalLength": 5.5,
                    "sepalWidth": 3.5,
                    "petalLength": 1.3,
                    "petalWidth": 0.2,
                    "species": "setosa"
                  },
                  {
                    "sepalLength": 4.9,
                    "sepalWidth": 3.6,
                    "petalLength": 1.4,
                    "petalWidth": 0.1,
                    "species": "setosa"
                  },
                  {
                    "sepalLength": 4.4,
                    "sepalWidth": 3,
                    "petalLength": 1.3,
                    "petalWidth": 0.2,
                    "species": "setosa"
                  },
                  {
                    "sepalLength": 5.1,
                    "sepalWidth": 3.4,
                    "petalLength": 1.5,
                    "petalWidth": 0.2,
                    "species": "setosa"
                  },
                  {
                    "sepalLength": 5,
                    "sepalWidth": 3.5,
                    "petalLength": 1.3,
                    "petalWidth": 0.30000000000000004,
                    "species": "setosa"
                  },
                  {
                    "sepalLength": 4.5,
                    "sepalWidth": 2.3,
                    "petalLength": 1.3,
                    "petalWidth": 0.30000000000000004,
                    "species": "setosa"
                  },
                  {
                    "sepalLength": 4.4,
                    "sepalWidth": 3.2,
                    "petalLength": 1.3,
                    "petalWidth": 0.2,
                    "species": "setosa"
                  },
                  {
                    "sepalLength": 5,
                    "sepalWidth": 3.5,
                    "petalLength": 1.6,
                    "petalWidth": 0.6000000000000001,
                    "species": "setosa"
                  },
                  {
                    "sepalLength": 5.1,
                    "sepalWidth": 3.8,
                    "petalLength": 1.9,
                    "petalWidth": 0.4,
                    "species": "setosa"
                  },
                  {
                    "sepalLength": 4.8,
                    "sepalWidth": 3,
                    "petalLength": 1.4,
                    "petalWidth": 0.30000000000000004,
                    "species": "setosa"
                  },
                  {
                    "sepalLength": 5.1,
                    "sepalWidth": 3.8,
                    "petalLength": 1.6,
                    "petalWidth": 0.2,
                    "species": "setosa"
                  },
                  {
                    "sepalLength": 4.6,
                    "sepalWidth": 3.2,
                    "petalLength": 1.4,
                    "petalWidth": 0.2,
                    "species": "setosa"
                  },
                  {
                    "sepalLength": 5.3,
                    "sepalWidth": 3.7,
                    "petalLength": 1.5,
                    "petalWidth": 0.2,
                    "species": "setosa"
                  },
                  {
                    "sepalLength": 5,
                    "sepalWidth": 3.3,
                    "petalLength": 1.4,
                    "petalWidth": 0.2,
                    "species": "setosa"
                  },
                  {
                    "sepalLength": 7,
                    "sepalWidth": 3.2,
                    "petalLength": 4.7,
                    "petalWidth": 1.4,
                    "species": "versicolor"
                  },
                  {
                    "sepalLength": 6.4,
                    "sepalWidth": 3.2,
                    "petalLength": 4.5,
                    "petalWidth": 1.5,
                    "species": "versicolor"
                  },
                  {
                    "sepalLength": 6.9,
                    "sepalWidth": 3.1,
                    "petalLength": 4.9,
                    "petalWidth": 1.5,
                    "species": "versicolor"
                  },
                  {
                    "sepalLength": 5.5,
                    "sepalWidth": 2.3,
                    "petalLength": 4,
                    "petalWidth": 1.3,
                    "species": "versicolor"
                  },
                  {
                    "sepalLength": 6.5,
                    "sepalWidth": 2.8,
                    "petalLength": 4.6,
                    "petalWidth": 1.5,
                    "species": "versicolor"
                  },
                  {
                    "sepalLength": 5.7,
                    "sepalWidth": 2.8,
                    "petalLength": 4.5,
                    "petalWidth": 1.3,
                    "species": "versicolor"
                  },
                  {
                    "sepalLength": 6.3,
                    "sepalWidth": 3.3,
                    "petalLength": 4.7,
                    "petalWidth": 1.6,
                    "species": "versicolor"
                  },
                  {
                    "sepalLength": 4.9,
                    "sepalWidth": 2.4,
                    "petalLength": 3.3,
                    "petalWidth": 1,
                    "species": "versicolor"
                  },
                  {
                    "sepalLength": 6.6,
                    "sepalWidth": 2.9,
                    "petalLength": 4.6,
                    "petalWidth": 1.3,
                    "species": "versicolor"
                  },
                  {
                    "sepalLength": 5.2,
                    "sepalWidth": 2.7,
                    "petalLength": 3.9,
                    "petalWidth": 1.4,
                    "species": "versicolor"
                  },
                  {
                    "sepalLength": 5,
                    "sepalWidth": 2,
                    "petalLength": 3.5,
                    "petalWidth": 1,
                    "species": "versicolor"
                  },
                  {
                    "sepalLength": 5.9,
                    "sepalWidth": 3,
                    "petalLength": 4.2,
                    "petalWidth": 1.5,
                    "species": "versicolor"
                  },
                  {
                    "sepalLength": 6,
                    "sepalWidth": 2.2,
                    "petalLength": 4,
                    "petalWidth": 1,
                    "species": "versicolor"
                  },
                  {
                    "sepalLength": 6.1,
                    "sepalWidth": 2.9,
                    "petalLength": 4.7,
                    "petalWidth": 1.4,
                    "species": "versicolor"
                  },
                  {
                    "sepalLength": 5.6,
                    "sepalWidth": 2.9,
                    "petalLength": 3.6,
                    "petalWidth": 1.3,
                    "species": "versicolor"
                  },
                  {
                    "sepalLength": 6.7,
                    "sepalWidth": 3.1,
                    "petalLength": 4.4,
                    "petalWidth": 1.4,
                    "species": "versicolor"
                  },
                  {
                    "sepalLength": 5.6,
                    "sepalWidth": 3,
                    "petalLength": 4.5,
                    "petalWidth": 1.5,
                    "species": "versicolor"
                  },
                  {
                    "sepalLength": 5.8,
                    "sepalWidth": 2.7,
                    "petalLength": 4.1,
                    "petalWidth": 1,
                    "species": "versicolor"
                  },
                  {
                    "sepalLength": 6.2,
                    "sepalWidth": 2.2,
                    "petalLength": 4.5,
                    "petalWidth": 1.5,
                    "species": "versicolor"
                  },
                  {
                    "sepalLength": 5.6,
                    "sepalWidth": 2.5,
                    "petalLength": 3.9,
                    "petalWidth": 1.1,
                    "species": "versicolor"
                  },
                  {
                    "sepalLength": 5.9,
                    "sepalWidth": 3.2,
                    "petalLength": 4.8,
                    "petalWidth": 1.8,
                    "species": "versicolor"
                  },
                  {
                    "sepalLength": 6.1,
                    "sepalWidth": 2.8,
                    "petalLength": 4,
                    "petalWidth": 1.3,
                    "species": "versicolor"
                  },
                  {
                    "sepalLength": 6.3,
                    "sepalWidth": 2.5,
                    "petalLength": 4.9,
                    "petalWidth": 1.5,
                    "species": "versicolor"
                  },
                  {
                    "sepalLength": 6.1,
                    "sepalWidth": 2.8,
                    "petalLength": 4.7,
                    "petalWidth": 1.2,
                    "species": "versicolor"
                  },
                  {
                    "sepalLength": 6.4,
                    "sepalWidth": 2.9,
                    "petalLength": 4.3,
                    "petalWidth": 1.3,
                    "species": "versicolor"
                  },
                  {
                    "sepalLength": 6.6,
                    "sepalWidth": 3,
                    "petalLength": 4.4,
                    "petalWidth": 1.4,
                    "species": "versicolor"
                  },
                  {
                    "sepalLength": 6.8,
                    "sepalWidth": 2.8,
                    "petalLength": 4.8,
                    "petalWidth": 1.4,
                    "species": "versicolor"
                  },
                  {
                    "sepalLength": 6.7,
                    "sepalWidth": 3,
                    "petalLength": 5,
                    "petalWidth": 1.7000000000000002,
                    "species": "versicolor"
                  },
                  {
                    "sepalLength": 6,
                    "sepalWidth": 2.9,
                    "petalLength": 4.5,
                    "petalWidth": 1.5,
                    "species": "versicolor"
                  },
                  {
                    "sepalLength": 5.7,
                    "sepalWidth": 2.6,
                    "petalLength": 3.5,
                    "petalWidth": 1,
                    "species": "versicolor"
                  },
                  {
                    "sepalLength": 5.5,
                    "sepalWidth": 2.4,
                    "petalLength": 3.8,
                    "petalWidth": 1.1,
                    "species": "versicolor"
                  },
                  {
                    "sepalLength": 5.5,
                    "sepalWidth": 2.4,
                    "petalLength": 3.7,
                    "petalWidth": 1,
                    "species": "versicolor"
                  },
                  {
                    "sepalLength": 5.8,
                    "sepalWidth": 2.7,
                    "petalLength": 3.9,
                    "petalWidth": 1.2,
                    "species": "versicolor"
                  },
                  {
                    "sepalLength": 6,
                    "sepalWidth": 2.7,
                    "petalLength": 5.1,
                    "petalWidth": 1.6,
                    "species": "versicolor"
                  },
                  {
                    "sepalLength": 5.4,
                    "sepalWidth": 3,
                    "petalLength": 4.5,
                    "petalWidth": 1.5,
                    "species": "versicolor"
                  },
                  {
                    "sepalLength": 6,
                    "sepalWidth": 3.4,
                    "petalLength": 4.5,
                    "petalWidth": 1.6,
                    "species": "versicolor"
                  },
                  {
                    "sepalLength": 6.7,
                    "sepalWidth": 3.1,
                    "petalLength": 4.7,
                    "petalWidth": 1.5,
                    "species": "versicolor"
                  },
                  {
                    "sepalLength": 6.3,
                    "sepalWidth": 2.3,
                    "petalLength": 4.4,
                    "petalWidth": 1.3,
                    "species": "versicolor"
                  },
                  {
                    "sepalLength": 5.6,
                    "sepalWidth": 3,
                    "petalLength": 4.1,
                    "petalWidth": 1.3,
                    "species": "versicolor"
                  },
                  {
                    "sepalLength": 5.5,
                    "sepalWidth": 2.5,
                    "petalLength": 4,
                    "petalWidth": 1.3,
                    "species": "versicolor"
                  },
                  {
                    "sepalLength": 5.5,
                    "sepalWidth": 2.6,
                    "petalLength": 4.4,
                    "petalWidth": 1.2,
                    "species": "versicolor"
                  },
                  {
                    "sepalLength": 6.1,
                    "sepalWidth": 3,
                    "petalLength": 4.6,
                    "petalWidth": 1.4,
                    "species": "versicolor"
                  },
                  {
                    "sepalLength": 5.8,
                    "sepalWidth": 2.6,
                    "petalLength": 4,
                    "petalWidth": 1.2,
                    "species": "versicolor"
                  },
                  {
                    "sepalLength": 5,
                    "sepalWidth": 2.3,
                    "petalLength": 3.3,
                    "petalWidth": 1,
                    "species": "versicolor"
                  },
                  {
                    "sepalLength": 5.6,
                    "sepalWidth": 2.7,
                    "petalLength": 4.2,
                    "petalWidth": 1.3,
                    "species": "versicolor"
                  },
                  {
                    "sepalLength": 5.7,
                    "sepalWidth": 3,
                    "petalLength": 4.2,
                    "petalWidth": 1.2,
                    "species": "versicolor"
                  },
                  {
                    "sepalLength": 5.7,
                    "sepalWidth": 2.9,
                    "petalLength": 4.2,
                    "petalWidth": 1.3,
                    "species": "versicolor"
                  },
                  {
                    "sepalLength": 6.2,
                    "sepalWidth": 2.9,
                    "petalLength": 4.3,
                    "petalWidth": 1.3,
                    "species": "versicolor"
                  },
                  {
                    "sepalLength": 5.1,
                    "sepalWidth": 2.5,
                    "petalLength": 3,
                    "petalWidth": 1.1,
                    "species": "versicolor"
                  },
                  {
                    "sepalLength": 5.7,
                    "sepalWidth": 2.8,
                    "petalLength": 4.1,
                    "petalWidth": 1.3,
                    "species": "versicolor"
                  },
                  {
                    "sepalLength": 6.3,
                    "sepalWidth": 3.3,
                    "petalLength": 6,
                    "petalWidth": 2.5,
                    "species": "virginica"
                  },
                  {
                    "sepalLength": 5.8,
                    "sepalWidth": 2.7,
                    "petalLength": 5.1,
                    "petalWidth": 1.9,
                    "species": "virginica"
                  },
                  {
                    "sepalLength": 7.1,
                    "sepalWidth": 3,
                    "petalLength": 5.9,
                    "petalWidth": 2.1,
                    "species": "virginica"
                  },
                  {
                    "sepalLength": 6.3,
                    "sepalWidth": 2.9,
                    "petalLength": 5.6,
                    "petalWidth": 1.8,
                    "species": "virginica"
                  },
                  {
                    "sepalLength": 6.5,
                    "sepalWidth": 3,
                    "petalLength": 5.8,
                    "petalWidth": 2.2,
                    "species": "virginica"
                  },
                  {
                    "sepalLength": 7.6,
                    "sepalWidth": 3,
                    "petalLength": 6.6,
                    "petalWidth": 2.1,
                    "species": "virginica"
                  },
                  {
                    "sepalLength": 4.9,
                    "sepalWidth": 2.5,
                    "petalLength": 4.5,
                    "petalWidth": 1.7000000000000002,
                    "species": "virginica"
                  },
                  {
                    "sepalLength": 7.3,
                    "sepalWidth": 2.9,
                    "petalLength": 6.3,
                    "petalWidth": 1.8,
                    "species": "virginica"
                  },
                  {
                    "sepalLength": 6.7,
                    "sepalWidth": 2.5,
                    "petalLength": 5.8,
                    "petalWidth": 1.8,
                    "species": "virginica"
                  },
                  {
                    "sepalLength": 7.2,
                    "sepalWidth": 3.6,
                    "petalLength": 6.1,
                    "petalWidth": 2.5,
                    "species": "virginica"
                  },
                  {
                    "sepalLength": 6.5,
                    "sepalWidth": 3.2,
                    "petalLength": 5.1,
                    "petalWidth": 2,
                    "species": "virginica"
                  },
                  {
                    "sepalLength": 6.4,
                    "sepalWidth": 2.7,
                    "petalLength": 5.3,
                    "petalWidth": 1.9,
                    "species": "virginica"
                  },
                  {
                    "sepalLength": 6.8,
                    "sepalWidth": 3,
                    "petalLength": 5.5,
                    "petalWidth": 2.1,
                    "species": "virginica"
                  },
                  {
                    "sepalLength": 5.7,
                    "sepalWidth": 2.5,
                    "petalLength": 5,
                    "petalWidth": 2,
                    "species": "virginica"
                  },
                  {
                    "sepalLength": 5.8,
                    "sepalWidth": 2.8,
                    "petalLength": 5.1,
                    "petalWidth": 2.4,
                    "species": "virginica"
                  },
                  {
                    "sepalLength": 6.4,
                    "sepalWidth": 3.2,
                    "petalLength": 5.3,
                    "petalWidth": 2.3,
                    "species": "virginica"
                  },
                  {
                    "sepalLength": 6.5,
                    "sepalWidth": 3,
                    "petalLength": 5.5,
                    "petalWidth": 1.8,
                    "species": "virginica"
                  },
                  {
                    "sepalLength": 7.7,
                    "sepalWidth": 3.8,
                    "petalLength": 6.7,
                    "petalWidth": 2.2,
                    "species": "virginica"
                  },
                  {
                    "sepalLength": 7.7,
                    "sepalWidth": 2.6,
                    "petalLength": 6.9,
                    "petalWidth": 2.3,
                    "species": "virginica"
                  },
                  {
                    "sepalLength": 6,
                    "sepalWidth": 2.2,
                    "petalLength": 5,
                    "petalWidth": 1.5,
                    "species": "virginica"
                  },
                  {
                    "sepalLength": 6.9,
                    "sepalWidth": 3.2,
                    "petalLength": 5.7,
                    "petalWidth": 2.3,
                    "species": "virginica"
                  },
                  {
                    "sepalLength": 5.6,
                    "sepalWidth": 2.8,
                    "petalLength": 4.9,
                    "petalWidth": 2,
                    "species": "virginica"
                  },
                  {
                    "sepalLength": 7.7,
                    "sepalWidth": 2.8,
                    "petalLength": 6.7,
                    "petalWidth": 2,
                    "species": "virginica"
                  },
                  {
                    "sepalLength": 6.3,
                    "sepalWidth": 2.7,
                    "petalLength": 4.9,
                    "petalWidth": 1.8,
                    "species": "virginica"
                  },
                  {
                    "sepalLength": 6.7,
                    "sepalWidth": 3.3,
                    "petalLength": 5.7,
                    "petalWidth": 2.1,
                    "species": "virginica"
                  },
                  {
                    "sepalLength": 7.2,
                    "sepalWidth": 3.2,
                    "petalLength": 6,
                    "petalWidth": 1.8,
                    "species": "virginica"
                  },
                  {
                    "sepalLength": 6.2,
                    "sepalWidth": 2.8,
                    "petalLength": 4.8,
                    "petalWidth": 1.8,
                    "species": "virginica"
                  },
                  {
                    "sepalLength": 6.1,
                    "sepalWidth": 3,
                    "petalLength": 4.9,
                    "petalWidth": 1.8,
                    "species": "virginica"
                  },
                  {
                    "sepalLength": 6.4,
                    "sepalWidth": 2.8,
                    "petalLength": 5.6,
                    "petalWidth": 2.1,
                    "species": "virginica"
                  },
                  {
                    "sepalLength": 7.2,
                    "sepalWidth": 3,
                    "petalLength": 5.8,
                    "petalWidth": 1.6,
                    "species": "virginica"
                  },
                  {
                    "sepalLength": 7.4,
                    "sepalWidth": 2.8,
                    "petalLength": 6.1,
                    "petalWidth": 1.9,
                    "species": "virginica"
                  },
                  {
                    "sepalLength": 7.9,
                    "sepalWidth": 3.8,
                    "petalLength": 6.4,
                    "petalWidth": 2,
                    "species": "virginica"
                  },
                  {
                    "sepalLength": 6.4,
                    "sepalWidth": 2.8,
                    "petalLength": 5.6,
                    "petalWidth": 2.2,
                    "species": "virginica"
                  },
                  {
                    "sepalLength": 6.3,
                    "sepalWidth": 2.8,
                    "petalLength": 5.1,
                    "petalWidth": 1.5,
                    "species": "virginica"
                  },
                  {
                    "sepalLength": 6.1,
                    "sepalWidth": 2.6,
                    "petalLength": 5.6,
                    "petalWidth": 1.4,
                    "species": "virginica"
                  },
                  {
                    "sepalLength": 7.7,
                    "sepalWidth": 3,
                    "petalLength": 6.1,
                    "petalWidth": 2.3,
                    "species": "virginica"
                  },
                  {
                    "sepalLength": 6.3,
                    "sepalWidth": 3.4,
                    "petalLength": 5.6,
                    "petalWidth": 2.4,
                    "species": "virginica"
                  },
                  {
                    "sepalLength": 6.4,
                    "sepalWidth": 3.1,
                    "petalLength": 5.5,
                    "petalWidth": 1.8,
                    "species": "virginica"
                  },
                  {
                    "sepalLength": 6,
                    "sepalWidth": 3,
                    "petalLength": 4.8,
                    "petalWidth": 1.8,
                    "species": "virginica"
                  },
                  {
                    "sepalLength": 6.9,
                    "sepalWidth": 3.1,
                    "petalLength": 5.4,
                    "petalWidth": 2.1,
                    "species": "virginica"
                  },
                  {
                    "sepalLength": 6.7,
                    "sepalWidth": 3.1,
                    "petalLength": 5.6,
                    "petalWidth": 2.4,
                    "species": "virginica"
                  },
                  {
                    "sepalLength": 6.9,
                    "sepalWidth": 3.1,
                    "petalLength": 5.1,
                    "petalWidth": 2.3,
                    "species": "virginica"
                  },
                  {
                    "sepalLength": 5.8,
                    "sepalWidth": 2.7,
                    "petalLength": 5.1,
                    "petalWidth": 1.9,
                    "species": "virginica"
                  },
                  {
                    "sepalLength": 6.8,
                    "sepalWidth": 3.2,
                    "petalLength": 5.9,
                    "petalWidth": 2.3,
                    "species": "virginica"
                  },
                  {
                    "sepalLength": 6.7,
                    "sepalWidth": 3.3,
                    "petalLength": 5.7,
                    "petalWidth": 2.5,
                    "species": "virginica"
                  },
                  {
                    "sepalLength": 6.7,
                    "sepalWidth": 3,
                    "petalLength": 5.2,
                    "petalWidth": 2.3,
                    "species": "virginica"
                  },
                  {
                    "sepalLength": 6.3,
                    "sepalWidth": 2.5,
                    "petalLength": 5,
                    "petalWidth": 1.9,
                    "species": "virginica"
                  },
                  {
                    "sepalLength": 6.5,
                    "sepalWidth": 3,
                    "petalLength": 5.2,
                    "petalWidth": 2,
                    "species": "virginica"
                  },
                  {
                    "sepalLength": 6.2,
                    "sepalWidth": 3.4,
                    "petalLength": 5.4,
                    "petalWidth": 2.3,
                    "species": "virginica"
                  },
                  {
                    "sepalLength": 5.9,
                    "sepalWidth": 3,
                    "petalLength": 5.1,
                    "petalWidth": 1.8,
                    "species": "virginica"
                  }
                ]
              }
            },
            "text/plain": [
              "<VegaLite 3 object>\n",
              "\n",
              "If you see this message, it means the renderer has not been properly enabled\n",
              "for the frontend that you are using. For more information, see\n",
              "https://altair-viz.github.io/user_guide/troubleshooting.html\n"
            ]
          },
          "metadata": {}
        }
      ],
      "execution_count": 1,
      "metadata": {
        "collapsed": false,
        "outputHidden": false,
        "inputHidden": false
      }
    },
    {
      "cell_type": "code",
      "source": [
        "import pandas as pd\n",
        "data = pd.DataFrame({'a': list('CCCDDDEEE'),\n",
        "                     'b': [2, 7, 4, 1, 2, 6, 8, 4, 7]})\n",
        "\n",
        "alt.Chart(data).mark_point().encode(\n",
        "    x='a',\n",
        "    y='b'\n",
        ")"
      ],
      "outputs": [
        {
          "output_type": "execute_result",
          "execution_count": 2,
          "data": {
            "application/vnd.vegalite.v3+json": {
              "config": {
                "view": {
                  "width": 400,
                  "height": 300
                },
                "mark": {
                  "tooltip": null
                }
              },
              "data": {
                "name": "data-347f1284ea3247c0f55cb966abbdd2d8"
              },
              "mark": "point",
              "encoding": {
                "x": {
                  "type": "nominal",
                  "field": "a"
                },
                "y": {
                  "type": "quantitative",
                  "field": "b"
                }
              },
              "$schema": "https://vega.github.io/schema/vega-lite/v3.4.0.json",
              "datasets": {
                "data-347f1284ea3247c0f55cb966abbdd2d8": [
                  {
                    "a": "C",
                    "b": 2
                  },
                  {
                    "a": "C",
                    "b": 7
                  },
                  {
                    "a": "C",
                    "b": 4
                  },
                  {
                    "a": "D",
                    "b": 1
                  },
                  {
                    "a": "D",
                    "b": 2
                  },
                  {
                    "a": "D",
                    "b": 6
                  },
                  {
                    "a": "E",
                    "b": 8
                  },
                  {
                    "a": "E",
                    "b": 4
                  },
                  {
                    "a": "E",
                    "b": 7
                  }
                ]
              }
            },
            "text/plain": [
              "<VegaLite 3 object>\n",
              "\n",
              "If you see this message, it means the renderer has not been properly enabled\n",
              "for the frontend that you are using. For more information, see\n",
              "https://altair-viz.github.io/user_guide/troubleshooting.html\n"
            ]
          },
          "metadata": {}
        }
      ],
      "execution_count": 2,
      "metadata": {
        "collapsed": false,
        "outputHidden": false,
        "inputHidden": false
      }
    },
    {
      "cell_type": "code",
      "source": [
        "alt.Chart(data).mark_point().encode(\n",
        "    x='a',\n",
        "    y='average(b)'\n",
        ")"
      ],
      "outputs": [
        {
          "output_type": "execute_result",
          "execution_count": 3,
          "data": {
            "application/vnd.vegalite.v3+json": {
              "config": {
                "view": {
                  "width": 400,
                  "height": 300
                },
                "mark": {
                  "tooltip": null
                }
              },
              "data": {
                "name": "data-347f1284ea3247c0f55cb966abbdd2d8"
              },
              "mark": "point",
              "encoding": {
                "x": {
                  "type": "nominal",
                  "field": "a"
                },
                "y": {
                  "type": "quantitative",
                  "aggregate": "average",
                  "field": "b"
                }
              },
              "$schema": "https://vega.github.io/schema/vega-lite/v3.4.0.json",
              "datasets": {
                "data-347f1284ea3247c0f55cb966abbdd2d8": [
                  {
                    "a": "C",
                    "b": 2
                  },
                  {
                    "a": "C",
                    "b": 7
                  },
                  {
                    "a": "C",
                    "b": 4
                  },
                  {
                    "a": "D",
                    "b": 1
                  },
                  {
                    "a": "D",
                    "b": 2
                  },
                  {
                    "a": "D",
                    "b": 6
                  },
                  {
                    "a": "E",
                    "b": 8
                  },
                  {
                    "a": "E",
                    "b": 4
                  },
                  {
                    "a": "E",
                    "b": 7
                  }
                ]
              }
            },
            "text/plain": [
              "<VegaLite 3 object>\n",
              "\n",
              "If you see this message, it means the renderer has not been properly enabled\n",
              "for the frontend that you are using. For more information, see\n",
              "https://altair-viz.github.io/user_guide/troubleshooting.html\n"
            ]
          },
          "metadata": {}
        }
      ],
      "execution_count": 3,
      "metadata": {
        "collapsed": false,
        "outputHidden": false,
        "inputHidden": false
      }
    },
    {
      "cell_type": "code",
      "source": [
        "import altair as alt\n",
        "from vega_datasets import data\n",
        "\n",
        "source = data.iris()\n",
        "\n",
        "base = alt.Chart(source)\n",
        "\n",
        "xscale = alt.Scale(domain=(4.0, 8.0))\n",
        "yscale = alt.Scale(domain=(1.9, 4.55))\n",
        "\n",
        "area_args = {'opacity': .3, 'interpolate': 'step'}\n",
        "\n",
        "points = base.mark_circle().encode(\n",
        "    alt.X('sepalLength', scale=xscale),\n",
        "    alt.Y('sepalWidth', scale=yscale),\n",
        "    color='species',\n",
        ")\n",
        "\n",
        "top_hist = base.mark_area(**area_args).encode(\n",
        "    alt.X('sepalLength:Q',\n",
        "          # when using bins, the axis scale is set through\n",
        "          # the bin extent, so we do not specify the scale here\n",
        "          # (which would be ignored anyway)\n",
        "          bin=alt.Bin(maxbins=20, extent=xscale.domain),\n",
        "          stack=None,\n",
        "          title=''\n",
        "         ),\n",
        "    alt.Y('count()', stack=None, title=''),\n",
        "    alt.Color('species:N'),\n",
        ").properties(height=60)\n",
        "\n",
        "right_hist = base.mark_area(**area_args).encode(\n",
        "    alt.Y('sepalWidth:Q',\n",
        "          bin=alt.Bin(maxbins=20, extent=yscale.domain),\n",
        "          stack=None,\n",
        "          title='',\n",
        "         ),\n",
        "    alt.X('count()', stack=None, title=''),\n",
        "    alt.Color('species:N'),\n",
        ").properties(width=60)\n",
        "\n",
        "top_hist & (points | right_hist)"
      ],
      "outputs": [
        {
          "output_type": "execute_result",
          "execution_count": 5,
          "data": {
            "application/vnd.vegalite.v3+json": {
              "config": {
                "view": {
                  "width": 400,
                  "height": 300
                },
                "mark": {
                  "tooltip": null
                }
              },
              "vconcat": [
                {
                  "mark": {
                    "type": "area",
                    "interpolate": "step",
                    "opacity": 0.3
                  },
                  "encoding": {
                    "color": {
                      "type": "nominal",
                      "field": "species"
                    },
                    "x": {
                      "type": "quantitative",
                      "bin": {
                        "extent": [
                          4,
                          8
                        ],
                        "maxbins": 20
                      },
                      "field": "sepalLength",
                      "stack": null,
                      "title": ""
                    },
                    "y": {
                      "type": "quantitative",
                      "aggregate": "count",
                      "stack": null,
                      "title": ""
                    }
                  },
                  "height": 60
                },
                {
                  "hconcat": [
                    {
                      "mark": "circle",
                      "encoding": {
                        "color": {
                          "type": "nominal",
                          "field": "species"
                        },
                        "x": {
                          "type": "quantitative",
                          "field": "sepalLength",
                          "scale": {
                            "domain": [
                              4,
                              8
                            ]
                          }
                        },
                        "y": {
                          "type": "quantitative",
                          "field": "sepalWidth",
                          "scale": {
                            "domain": [
                              1.9,
                              4.55
                            ]
                          }
                        }
                      }
                    },
                    {
                      "mark": {
                        "type": "area",
                        "interpolate": "step",
                        "opacity": 0.3
                      },
                      "encoding": {
                        "color": {
                          "type": "nominal",
                          "field": "species"
                        },
                        "x": {
                          "type": "quantitative",
                          "aggregate": "count",
                          "stack": null,
                          "title": ""
                        },
                        "y": {
                          "type": "quantitative",
                          "bin": {
                            "extent": [
                              1.9,
                              4.55
                            ],
                            "maxbins": 20
                          },
                          "field": "sepalWidth",
                          "stack": null,
                          "title": ""
                        }
                      },
                      "width": 60
                    }
                  ]
                }
              ],
              "data": {
                "name": "data-a264acbd6e539a8b3afc0cb5f240fb57"
              },
              "$schema": "https://vega.github.io/schema/vega-lite/v3.4.0.json",
              "datasets": {
                "data-a264acbd6e539a8b3afc0cb5f240fb57": [
                  {
                    "sepalLength": 5.1,
                    "sepalWidth": 3.5,
                    "petalLength": 1.4,
                    "petalWidth": 0.2,
                    "species": "setosa"
                  },
                  {
                    "sepalLength": 4.9,
                    "sepalWidth": 3,
                    "petalLength": 1.4,
                    "petalWidth": 0.2,
                    "species": "setosa"
                  },
                  {
                    "sepalLength": 4.7,
                    "sepalWidth": 3.2,
                    "petalLength": 1.3,
                    "petalWidth": 0.2,
                    "species": "setosa"
                  },
                  {
                    "sepalLength": 4.6,
                    "sepalWidth": 3.1,
                    "petalLength": 1.5,
                    "petalWidth": 0.2,
                    "species": "setosa"
                  },
                  {
                    "sepalLength": 5,
                    "sepalWidth": 3.6,
                    "petalLength": 1.4,
                    "petalWidth": 0.2,
                    "species": "setosa"
                  },
                  {
                    "sepalLength": 5.4,
                    "sepalWidth": 3.9,
                    "petalLength": 1.7000000000000002,
                    "petalWidth": 0.4,
                    "species": "setosa"
                  },
                  {
                    "sepalLength": 4.6,
                    "sepalWidth": 3.4,
                    "petalLength": 1.4,
                    "petalWidth": 0.30000000000000004,
                    "species": "setosa"
                  },
                  {
                    "sepalLength": 5,
                    "sepalWidth": 3.4,
                    "petalLength": 1.5,
                    "petalWidth": 0.2,
                    "species": "setosa"
                  },
                  {
                    "sepalLength": 4.4,
                    "sepalWidth": 2.9,
                    "petalLength": 1.4,
                    "petalWidth": 0.2,
                    "species": "setosa"
                  },
                  {
                    "sepalLength": 4.9,
                    "sepalWidth": 3.1,
                    "petalLength": 1.5,
                    "petalWidth": 0.1,
                    "species": "setosa"
                  },
                  {
                    "sepalLength": 5.4,
                    "sepalWidth": 3.7,
                    "petalLength": 1.5,
                    "petalWidth": 0.2,
                    "species": "setosa"
                  },
                  {
                    "sepalLength": 4.8,
                    "sepalWidth": 3.4,
                    "petalLength": 1.6,
                    "petalWidth": 0.2,
                    "species": "setosa"
                  },
                  {
                    "sepalLength": 4.8,
                    "sepalWidth": 3,
                    "petalLength": 1.4,
                    "petalWidth": 0.1,
                    "species": "setosa"
                  },
                  {
                    "sepalLength": 4.3,
                    "sepalWidth": 3,
                    "petalLength": 1.1,
                    "petalWidth": 0.1,
                    "species": "setosa"
                  },
                  {
                    "sepalLength": 5.8,
                    "sepalWidth": 4,
                    "petalLength": 1.2,
                    "petalWidth": 0.2,
                    "species": "setosa"
                  },
                  {
                    "sepalLength": 5.7,
                    "sepalWidth": 4.4,
                    "petalLength": 1.5,
                    "petalWidth": 0.4,
                    "species": "setosa"
                  },
                  {
                    "sepalLength": 5.4,
                    "sepalWidth": 3.9,
                    "petalLength": 1.3,
                    "petalWidth": 0.4,
                    "species": "setosa"
                  },
                  {
                    "sepalLength": 5.1,
                    "sepalWidth": 3.5,
                    "petalLength": 1.4,
                    "petalWidth": 0.30000000000000004,
                    "species": "setosa"
                  },
                  {
                    "sepalLength": 5.7,
                    "sepalWidth": 3.8,
                    "petalLength": 1.7000000000000002,
                    "petalWidth": 0.30000000000000004,
                    "species": "setosa"
                  },
                  {
                    "sepalLength": 5.1,
                    "sepalWidth": 3.8,
                    "petalLength": 1.5,
                    "petalWidth": 0.30000000000000004,
                    "species": "setosa"
                  },
                  {
                    "sepalLength": 5.4,
                    "sepalWidth": 3.4,
                    "petalLength": 1.7000000000000002,
                    "petalWidth": 0.2,
                    "species": "setosa"
                  },
                  {
                    "sepalLength": 5.1,
                    "sepalWidth": 3.7,
                    "petalLength": 1.5,
                    "petalWidth": 0.4,
                    "species": "setosa"
                  },
                  {
                    "sepalLength": 4.6,
                    "sepalWidth": 3.6,
                    "petalLength": 1,
                    "petalWidth": 0.2,
                    "species": "setosa"
                  },
                  {
                    "sepalLength": 5.1,
                    "sepalWidth": 3.3,
                    "petalLength": 1.7000000000000002,
                    "petalWidth": 0.5,
                    "species": "setosa"
                  },
                  {
                    "sepalLength": 4.8,
                    "sepalWidth": 3.4,
                    "petalLength": 1.9,
                    "petalWidth": 0.2,
                    "species": "setosa"
                  },
                  {
                    "sepalLength": 5,
                    "sepalWidth": 3,
                    "petalLength": 1.6,
                    "petalWidth": 0.2,
                    "species": "setosa"
                  },
                  {
                    "sepalLength": 5,
                    "sepalWidth": 3.4,
                    "petalLength": 1.6,
                    "petalWidth": 0.4,
                    "species": "setosa"
                  },
                  {
                    "sepalLength": 5.2,
                    "sepalWidth": 3.5,
                    "petalLength": 1.5,
                    "petalWidth": 0.2,
                    "species": "setosa"
                  },
                  {
                    "sepalLength": 5.2,
                    "sepalWidth": 3.4,
                    "petalLength": 1.4,
                    "petalWidth": 0.2,
                    "species": "setosa"
                  },
                  {
                    "sepalLength": 4.7,
                    "sepalWidth": 3.2,
                    "petalLength": 1.6,
                    "petalWidth": 0.2,
                    "species": "setosa"
                  },
                  {
                    "sepalLength": 4.8,
                    "sepalWidth": 3.1,
                    "petalLength": 1.6,
                    "petalWidth": 0.2,
                    "species": "setosa"
                  },
                  {
                    "sepalLength": 5.4,
                    "sepalWidth": 3.4,
                    "petalLength": 1.5,
                    "petalWidth": 0.4,
                    "species": "setosa"
                  },
                  {
                    "sepalLength": 5.2,
                    "sepalWidth": 4.1,
                    "petalLength": 1.5,
                    "petalWidth": 0.1,
                    "species": "setosa"
                  },
                  {
                    "sepalLength": 5.5,
                    "sepalWidth": 4.2,
                    "petalLength": 1.4,
                    "petalWidth": 0.2,
                    "species": "setosa"
                  },
                  {
                    "sepalLength": 4.9,
                    "sepalWidth": 3.1,
                    "petalLength": 1.5,
                    "petalWidth": 0.2,
                    "species": "setosa"
                  },
                  {
                    "sepalLength": 5,
                    "sepalWidth": 3.2,
                    "petalLength": 1.2,
                    "petalWidth": 0.2,
                    "species": "setosa"
                  },
                  {
                    "sepalLength": 5.5,
                    "sepalWidth": 3.5,
                    "petalLength": 1.3,
                    "petalWidth": 0.2,
                    "species": "setosa"
                  },
                  {
                    "sepalLength": 4.9,
                    "sepalWidth": 3.6,
                    "petalLength": 1.4,
                    "petalWidth": 0.1,
                    "species": "setosa"
                  },
                  {
                    "sepalLength": 4.4,
                    "sepalWidth": 3,
                    "petalLength": 1.3,
                    "petalWidth": 0.2,
                    "species": "setosa"
                  },
                  {
                    "sepalLength": 5.1,
                    "sepalWidth": 3.4,
                    "petalLength": 1.5,
                    "petalWidth": 0.2,
                    "species": "setosa"
                  },
                  {
                    "sepalLength": 5,
                    "sepalWidth": 3.5,
                    "petalLength": 1.3,
                    "petalWidth": 0.30000000000000004,
                    "species": "setosa"
                  },
                  {
                    "sepalLength": 4.5,
                    "sepalWidth": 2.3,
                    "petalLength": 1.3,
                    "petalWidth": 0.30000000000000004,
                    "species": "setosa"
                  },
                  {
                    "sepalLength": 4.4,
                    "sepalWidth": 3.2,
                    "petalLength": 1.3,
                    "petalWidth": 0.2,
                    "species": "setosa"
                  },
                  {
                    "sepalLength": 5,
                    "sepalWidth": 3.5,
                    "petalLength": 1.6,
                    "petalWidth": 0.6000000000000001,
                    "species": "setosa"
                  },
                  {
                    "sepalLength": 5.1,
                    "sepalWidth": 3.8,
                    "petalLength": 1.9,
                    "petalWidth": 0.4,
                    "species": "setosa"
                  },
                  {
                    "sepalLength": 4.8,
                    "sepalWidth": 3,
                    "petalLength": 1.4,
                    "petalWidth": 0.30000000000000004,
                    "species": "setosa"
                  },
                  {
                    "sepalLength": 5.1,
                    "sepalWidth": 3.8,
                    "petalLength": 1.6,
                    "petalWidth": 0.2,
                    "species": "setosa"
                  },
                  {
                    "sepalLength": 4.6,
                    "sepalWidth": 3.2,
                    "petalLength": 1.4,
                    "petalWidth": 0.2,
                    "species": "setosa"
                  },
                  {
                    "sepalLength": 5.3,
                    "sepalWidth": 3.7,
                    "petalLength": 1.5,
                    "petalWidth": 0.2,
                    "species": "setosa"
                  },
                  {
                    "sepalLength": 5,
                    "sepalWidth": 3.3,
                    "petalLength": 1.4,
                    "petalWidth": 0.2,
                    "species": "setosa"
                  },
                  {
                    "sepalLength": 7,
                    "sepalWidth": 3.2,
                    "petalLength": 4.7,
                    "petalWidth": 1.4,
                    "species": "versicolor"
                  },
                  {
                    "sepalLength": 6.4,
                    "sepalWidth": 3.2,
                    "petalLength": 4.5,
                    "petalWidth": 1.5,
                    "species": "versicolor"
                  },
                  {
                    "sepalLength": 6.9,
                    "sepalWidth": 3.1,
                    "petalLength": 4.9,
                    "petalWidth": 1.5,
                    "species": "versicolor"
                  },
                  {
                    "sepalLength": 5.5,
                    "sepalWidth": 2.3,
                    "petalLength": 4,
                    "petalWidth": 1.3,
                    "species": "versicolor"
                  },
                  {
                    "sepalLength": 6.5,
                    "sepalWidth": 2.8,
                    "petalLength": 4.6,
                    "petalWidth": 1.5,
                    "species": "versicolor"
                  },
                  {
                    "sepalLength": 5.7,
                    "sepalWidth": 2.8,
                    "petalLength": 4.5,
                    "petalWidth": 1.3,
                    "species": "versicolor"
                  },
                  {
                    "sepalLength": 6.3,
                    "sepalWidth": 3.3,
                    "petalLength": 4.7,
                    "petalWidth": 1.6,
                    "species": "versicolor"
                  },
                  {
                    "sepalLength": 4.9,
                    "sepalWidth": 2.4,
                    "petalLength": 3.3,
                    "petalWidth": 1,
                    "species": "versicolor"
                  },
                  {
                    "sepalLength": 6.6,
                    "sepalWidth": 2.9,
                    "petalLength": 4.6,
                    "petalWidth": 1.3,
                    "species": "versicolor"
                  },
                  {
                    "sepalLength": 5.2,
                    "sepalWidth": 2.7,
                    "petalLength": 3.9,
                    "petalWidth": 1.4,
                    "species": "versicolor"
                  },
                  {
                    "sepalLength": 5,
                    "sepalWidth": 2,
                    "petalLength": 3.5,
                    "petalWidth": 1,
                    "species": "versicolor"
                  },
                  {
                    "sepalLength": 5.9,
                    "sepalWidth": 3,
                    "petalLength": 4.2,
                    "petalWidth": 1.5,
                    "species": "versicolor"
                  },
                  {
                    "sepalLength": 6,
                    "sepalWidth": 2.2,
                    "petalLength": 4,
                    "petalWidth": 1,
                    "species": "versicolor"
                  },
                  {
                    "sepalLength": 6.1,
                    "sepalWidth": 2.9,
                    "petalLength": 4.7,
                    "petalWidth": 1.4,
                    "species": "versicolor"
                  },
                  {
                    "sepalLength": 5.6,
                    "sepalWidth": 2.9,
                    "petalLength": 3.6,
                    "petalWidth": 1.3,
                    "species": "versicolor"
                  },
                  {
                    "sepalLength": 6.7,
                    "sepalWidth": 3.1,
                    "petalLength": 4.4,
                    "petalWidth": 1.4,
                    "species": "versicolor"
                  },
                  {
                    "sepalLength": 5.6,
                    "sepalWidth": 3,
                    "petalLength": 4.5,
                    "petalWidth": 1.5,
                    "species": "versicolor"
                  },
                  {
                    "sepalLength": 5.8,
                    "sepalWidth": 2.7,
                    "petalLength": 4.1,
                    "petalWidth": 1,
                    "species": "versicolor"
                  },
                  {
                    "sepalLength": 6.2,
                    "sepalWidth": 2.2,
                    "petalLength": 4.5,
                    "petalWidth": 1.5,
                    "species": "versicolor"
                  },
                  {
                    "sepalLength": 5.6,
                    "sepalWidth": 2.5,
                    "petalLength": 3.9,
                    "petalWidth": 1.1,
                    "species": "versicolor"
                  },
                  {
                    "sepalLength": 5.9,
                    "sepalWidth": 3.2,
                    "petalLength": 4.8,
                    "petalWidth": 1.8,
                    "species": "versicolor"
                  },
                  {
                    "sepalLength": 6.1,
                    "sepalWidth": 2.8,
                    "petalLength": 4,
                    "petalWidth": 1.3,
                    "species": "versicolor"
                  },
                  {
                    "sepalLength": 6.3,
                    "sepalWidth": 2.5,
                    "petalLength": 4.9,
                    "petalWidth": 1.5,
                    "species": "versicolor"
                  },
                  {
                    "sepalLength": 6.1,
                    "sepalWidth": 2.8,
                    "petalLength": 4.7,
                    "petalWidth": 1.2,
                    "species": "versicolor"
                  },
                  {
                    "sepalLength": 6.4,
                    "sepalWidth": 2.9,
                    "petalLength": 4.3,
                    "petalWidth": 1.3,
                    "species": "versicolor"
                  },
                  {
                    "sepalLength": 6.6,
                    "sepalWidth": 3,
                    "petalLength": 4.4,
                    "petalWidth": 1.4,
                    "species": "versicolor"
                  },
                  {
                    "sepalLength": 6.8,
                    "sepalWidth": 2.8,
                    "petalLength": 4.8,
                    "petalWidth": 1.4,
                    "species": "versicolor"
                  },
                  {
                    "sepalLength": 6.7,
                    "sepalWidth": 3,
                    "petalLength": 5,
                    "petalWidth": 1.7000000000000002,
                    "species": "versicolor"
                  },
                  {
                    "sepalLength": 6,
                    "sepalWidth": 2.9,
                    "petalLength": 4.5,
                    "petalWidth": 1.5,
                    "species": "versicolor"
                  },
                  {
                    "sepalLength": 5.7,
                    "sepalWidth": 2.6,
                    "petalLength": 3.5,
                    "petalWidth": 1,
                    "species": "versicolor"
                  },
                  {
                    "sepalLength": 5.5,
                    "sepalWidth": 2.4,
                    "petalLength": 3.8,
                    "petalWidth": 1.1,
                    "species": "versicolor"
                  },
                  {
                    "sepalLength": 5.5,
                    "sepalWidth": 2.4,
                    "petalLength": 3.7,
                    "petalWidth": 1,
                    "species": "versicolor"
                  },
                  {
                    "sepalLength": 5.8,
                    "sepalWidth": 2.7,
                    "petalLength": 3.9,
                    "petalWidth": 1.2,
                    "species": "versicolor"
                  },
                  {
                    "sepalLength": 6,
                    "sepalWidth": 2.7,
                    "petalLength": 5.1,
                    "petalWidth": 1.6,
                    "species": "versicolor"
                  },
                  {
                    "sepalLength": 5.4,
                    "sepalWidth": 3,
                    "petalLength": 4.5,
                    "petalWidth": 1.5,
                    "species": "versicolor"
                  },
                  {
                    "sepalLength": 6,
                    "sepalWidth": 3.4,
                    "petalLength": 4.5,
                    "petalWidth": 1.6,
                    "species": "versicolor"
                  },
                  {
                    "sepalLength": 6.7,
                    "sepalWidth": 3.1,
                    "petalLength": 4.7,
                    "petalWidth": 1.5,
                    "species": "versicolor"
                  },
                  {
                    "sepalLength": 6.3,
                    "sepalWidth": 2.3,
                    "petalLength": 4.4,
                    "petalWidth": 1.3,
                    "species": "versicolor"
                  },
                  {
                    "sepalLength": 5.6,
                    "sepalWidth": 3,
                    "petalLength": 4.1,
                    "petalWidth": 1.3,
                    "species": "versicolor"
                  },
                  {
                    "sepalLength": 5.5,
                    "sepalWidth": 2.5,
                    "petalLength": 4,
                    "petalWidth": 1.3,
                    "species": "versicolor"
                  },
                  {
                    "sepalLength": 5.5,
                    "sepalWidth": 2.6,
                    "petalLength": 4.4,
                    "petalWidth": 1.2,
                    "species": "versicolor"
                  },
                  {
                    "sepalLength": 6.1,
                    "sepalWidth": 3,
                    "petalLength": 4.6,
                    "petalWidth": 1.4,
                    "species": "versicolor"
                  },
                  {
                    "sepalLength": 5.8,
                    "sepalWidth": 2.6,
                    "petalLength": 4,
                    "petalWidth": 1.2,
                    "species": "versicolor"
                  },
                  {
                    "sepalLength": 5,
                    "sepalWidth": 2.3,
                    "petalLength": 3.3,
                    "petalWidth": 1,
                    "species": "versicolor"
                  },
                  {
                    "sepalLength": 5.6,
                    "sepalWidth": 2.7,
                    "petalLength": 4.2,
                    "petalWidth": 1.3,
                    "species": "versicolor"
                  },
                  {
                    "sepalLength": 5.7,
                    "sepalWidth": 3,
                    "petalLength": 4.2,
                    "petalWidth": 1.2,
                    "species": "versicolor"
                  },
                  {
                    "sepalLength": 5.7,
                    "sepalWidth": 2.9,
                    "petalLength": 4.2,
                    "petalWidth": 1.3,
                    "species": "versicolor"
                  },
                  {
                    "sepalLength": 6.2,
                    "sepalWidth": 2.9,
                    "petalLength": 4.3,
                    "petalWidth": 1.3,
                    "species": "versicolor"
                  },
                  {
                    "sepalLength": 5.1,
                    "sepalWidth": 2.5,
                    "petalLength": 3,
                    "petalWidth": 1.1,
                    "species": "versicolor"
                  },
                  {
                    "sepalLength": 5.7,
                    "sepalWidth": 2.8,
                    "petalLength": 4.1,
                    "petalWidth": 1.3,
                    "species": "versicolor"
                  },
                  {
                    "sepalLength": 6.3,
                    "sepalWidth": 3.3,
                    "petalLength": 6,
                    "petalWidth": 2.5,
                    "species": "virginica"
                  },
                  {
                    "sepalLength": 5.8,
                    "sepalWidth": 2.7,
                    "petalLength": 5.1,
                    "petalWidth": 1.9,
                    "species": "virginica"
                  },
                  {
                    "sepalLength": 7.1,
                    "sepalWidth": 3,
                    "petalLength": 5.9,
                    "petalWidth": 2.1,
                    "species": "virginica"
                  },
                  {
                    "sepalLength": 6.3,
                    "sepalWidth": 2.9,
                    "petalLength": 5.6,
                    "petalWidth": 1.8,
                    "species": "virginica"
                  },
                  {
                    "sepalLength": 6.5,
                    "sepalWidth": 3,
                    "petalLength": 5.8,
                    "petalWidth": 2.2,
                    "species": "virginica"
                  },
                  {
                    "sepalLength": 7.6,
                    "sepalWidth": 3,
                    "petalLength": 6.6,
                    "petalWidth": 2.1,
                    "species": "virginica"
                  },
                  {
                    "sepalLength": 4.9,
                    "sepalWidth": 2.5,
                    "petalLength": 4.5,
                    "petalWidth": 1.7000000000000002,
                    "species": "virginica"
                  },
                  {
                    "sepalLength": 7.3,
                    "sepalWidth": 2.9,
                    "petalLength": 6.3,
                    "petalWidth": 1.8,
                    "species": "virginica"
                  },
                  {
                    "sepalLength": 6.7,
                    "sepalWidth": 2.5,
                    "petalLength": 5.8,
                    "petalWidth": 1.8,
                    "species": "virginica"
                  },
                  {
                    "sepalLength": 7.2,
                    "sepalWidth": 3.6,
                    "petalLength": 6.1,
                    "petalWidth": 2.5,
                    "species": "virginica"
                  },
                  {
                    "sepalLength": 6.5,
                    "sepalWidth": 3.2,
                    "petalLength": 5.1,
                    "petalWidth": 2,
                    "species": "virginica"
                  },
                  {
                    "sepalLength": 6.4,
                    "sepalWidth": 2.7,
                    "petalLength": 5.3,
                    "petalWidth": 1.9,
                    "species": "virginica"
                  },
                  {
                    "sepalLength": 6.8,
                    "sepalWidth": 3,
                    "petalLength": 5.5,
                    "petalWidth": 2.1,
                    "species": "virginica"
                  },
                  {
                    "sepalLength": 5.7,
                    "sepalWidth": 2.5,
                    "petalLength": 5,
                    "petalWidth": 2,
                    "species": "virginica"
                  },
                  {
                    "sepalLength": 5.8,
                    "sepalWidth": 2.8,
                    "petalLength": 5.1,
                    "petalWidth": 2.4,
                    "species": "virginica"
                  },
                  {
                    "sepalLength": 6.4,
                    "sepalWidth": 3.2,
                    "petalLength": 5.3,
                    "petalWidth": 2.3,
                    "species": "virginica"
                  },
                  {
                    "sepalLength": 6.5,
                    "sepalWidth": 3,
                    "petalLength": 5.5,
                    "petalWidth": 1.8,
                    "species": "virginica"
                  },
                  {
                    "sepalLength": 7.7,
                    "sepalWidth": 3.8,
                    "petalLength": 6.7,
                    "petalWidth": 2.2,
                    "species": "virginica"
                  },
                  {
                    "sepalLength": 7.7,
                    "sepalWidth": 2.6,
                    "petalLength": 6.9,
                    "petalWidth": 2.3,
                    "species": "virginica"
                  },
                  {
                    "sepalLength": 6,
                    "sepalWidth": 2.2,
                    "petalLength": 5,
                    "petalWidth": 1.5,
                    "species": "virginica"
                  },
                  {
                    "sepalLength": 6.9,
                    "sepalWidth": 3.2,
                    "petalLength": 5.7,
                    "petalWidth": 2.3,
                    "species": "virginica"
                  },
                  {
                    "sepalLength": 5.6,
                    "sepalWidth": 2.8,
                    "petalLength": 4.9,
                    "petalWidth": 2,
                    "species": "virginica"
                  },
                  {
                    "sepalLength": 7.7,
                    "sepalWidth": 2.8,
                    "petalLength": 6.7,
                    "petalWidth": 2,
                    "species": "virginica"
                  },
                  {
                    "sepalLength": 6.3,
                    "sepalWidth": 2.7,
                    "petalLength": 4.9,
                    "petalWidth": 1.8,
                    "species": "virginica"
                  },
                  {
                    "sepalLength": 6.7,
                    "sepalWidth": 3.3,
                    "petalLength": 5.7,
                    "petalWidth": 2.1,
                    "species": "virginica"
                  },
                  {
                    "sepalLength": 7.2,
                    "sepalWidth": 3.2,
                    "petalLength": 6,
                    "petalWidth": 1.8,
                    "species": "virginica"
                  },
                  {
                    "sepalLength": 6.2,
                    "sepalWidth": 2.8,
                    "petalLength": 4.8,
                    "petalWidth": 1.8,
                    "species": "virginica"
                  },
                  {
                    "sepalLength": 6.1,
                    "sepalWidth": 3,
                    "petalLength": 4.9,
                    "petalWidth": 1.8,
                    "species": "virginica"
                  },
                  {
                    "sepalLength": 6.4,
                    "sepalWidth": 2.8,
                    "petalLength": 5.6,
                    "petalWidth": 2.1,
                    "species": "virginica"
                  },
                  {
                    "sepalLength": 7.2,
                    "sepalWidth": 3,
                    "petalLength": 5.8,
                    "petalWidth": 1.6,
                    "species": "virginica"
                  },
                  {
                    "sepalLength": 7.4,
                    "sepalWidth": 2.8,
                    "petalLength": 6.1,
                    "petalWidth": 1.9,
                    "species": "virginica"
                  },
                  {
                    "sepalLength": 7.9,
                    "sepalWidth": 3.8,
                    "petalLength": 6.4,
                    "petalWidth": 2,
                    "species": "virginica"
                  },
                  {
                    "sepalLength": 6.4,
                    "sepalWidth": 2.8,
                    "petalLength": 5.6,
                    "petalWidth": 2.2,
                    "species": "virginica"
                  },
                  {
                    "sepalLength": 6.3,
                    "sepalWidth": 2.8,
                    "petalLength": 5.1,
                    "petalWidth": 1.5,
                    "species": "virginica"
                  },
                  {
                    "sepalLength": 6.1,
                    "sepalWidth": 2.6,
                    "petalLength": 5.6,
                    "petalWidth": 1.4,
                    "species": "virginica"
                  },
                  {
                    "sepalLength": 7.7,
                    "sepalWidth": 3,
                    "petalLength": 6.1,
                    "petalWidth": 2.3,
                    "species": "virginica"
                  },
                  {
                    "sepalLength": 6.3,
                    "sepalWidth": 3.4,
                    "petalLength": 5.6,
                    "petalWidth": 2.4,
                    "species": "virginica"
                  },
                  {
                    "sepalLength": 6.4,
                    "sepalWidth": 3.1,
                    "petalLength": 5.5,
                    "petalWidth": 1.8,
                    "species": "virginica"
                  },
                  {
                    "sepalLength": 6,
                    "sepalWidth": 3,
                    "petalLength": 4.8,
                    "petalWidth": 1.8,
                    "species": "virginica"
                  },
                  {
                    "sepalLength": 6.9,
                    "sepalWidth": 3.1,
                    "petalLength": 5.4,
                    "petalWidth": 2.1,
                    "species": "virginica"
                  },
                  {
                    "sepalLength": 6.7,
                    "sepalWidth": 3.1,
                    "petalLength": 5.6,
                    "petalWidth": 2.4,
                    "species": "virginica"
                  },
                  {
                    "sepalLength": 6.9,
                    "sepalWidth": 3.1,
                    "petalLength": 5.1,
                    "petalWidth": 2.3,
                    "species": "virginica"
                  },
                  {
                    "sepalLength": 5.8,
                    "sepalWidth": 2.7,
                    "petalLength": 5.1,
                    "petalWidth": 1.9,
                    "species": "virginica"
                  },
                  {
                    "sepalLength": 6.8,
                    "sepalWidth": 3.2,
                    "petalLength": 5.9,
                    "petalWidth": 2.3,
                    "species": "virginica"
                  },
                  {
                    "sepalLength": 6.7,
                    "sepalWidth": 3.3,
                    "petalLength": 5.7,
                    "petalWidth": 2.5,
                    "species": "virginica"
                  },
                  {
                    "sepalLength": 6.7,
                    "sepalWidth": 3,
                    "petalLength": 5.2,
                    "petalWidth": 2.3,
                    "species": "virginica"
                  },
                  {
                    "sepalLength": 6.3,
                    "sepalWidth": 2.5,
                    "petalLength": 5,
                    "petalWidth": 1.9,
                    "species": "virginica"
                  },
                  {
                    "sepalLength": 6.5,
                    "sepalWidth": 3,
                    "petalLength": 5.2,
                    "petalWidth": 2,
                    "species": "virginica"
                  },
                  {
                    "sepalLength": 6.2,
                    "sepalWidth": 3.4,
                    "petalLength": 5.4,
                    "petalWidth": 2.3,
                    "species": "virginica"
                  },
                  {
                    "sepalLength": 5.9,
                    "sepalWidth": 3,
                    "petalLength": 5.1,
                    "petalWidth": 1.8,
                    "species": "virginica"
                  }
                ]
              }
            },
            "text/plain": [
              "<VegaLite 3 object>\n",
              "\n",
              "If you see this message, it means the renderer has not been properly enabled\n",
              "for the frontend that you are using. For more information, see\n",
              "https://altair-viz.github.io/user_guide/troubleshooting.html\n"
            ]
          },
          "metadata": {}
        }
      ],
      "execution_count": 5,
      "metadata": {
        "collapsed": false,
        "outputHidden": false,
        "inputHidden": false
      }
    },
    {
      "cell_type": "code",
      "source": [],
      "outputs": [],
      "execution_count": null,
      "metadata": {
        "collapsed": false,
        "outputHidden": false,
        "inputHidden": false
      }
    }
  ],
  "metadata": {
    "kernel_info": {
      "name": "py37"
    },
    "language_info": {
      "name": "python",
      "version": "3.7.3",
      "mimetype": "text/x-python",
      "codemirror_mode": {
        "name": "ipython",
        "version": 3
      },
      "pygments_lexer": "ipython3",
      "nbconvert_exporter": "python",
      "file_extension": ".py"
    },
    "kernelspec": {
      "name": "py37",
      "language": "python",
      "display_name": "Python (py37)"
    },
    "nteract": {
      "version": "0.15.0"
    }
  },
  "nbformat": 4,
  "nbformat_minor": 0
}